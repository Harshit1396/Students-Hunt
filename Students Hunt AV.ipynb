{
 "cells": [
  {
   "cell_type": "code",
   "execution_count": null,
   "metadata": {
    "scrolled": false
   },
   "outputs": [],
   "source": [
    "% pylab inline \n",
    "import pandas as pd\n",
    "import numpy as np"
   ]
  },
  {
   "cell_type": "code",
   "execution_count": null,
   "metadata": {
    "collapsed": true,
    "scrolled": true
   },
   "outputs": [],
   "source": [
    "train = pd.read_csv(\"B:/Case studies/Student Hunt/train.csv\")\n",
    "test = pd.read_csv(\"B:/Case studies/Student Hunt/test.csv\")"
   ]
  },
  {
   "cell_type": "markdown",
   "metadata": {},
   "source": [
    "# VISUALIZATION"
   ]
  },
  {
   "cell_type": "code",
   "execution_count": null,
   "metadata": {
    "scrolled": true
   },
   "outputs": [],
   "source": [
    "# to check data\n",
    "train.head()\n",
    "test.head()"
   ]
  },
  {
   "cell_type": "code",
   "execution_count": null,
   "metadata": {
    "scrolled": true
   },
   "outputs": [],
   "source": [
    "# to understand the general statistics of data\n",
    "train.describe()"
   ]
  },
  {
   "cell_type": "code",
   "execution_count": 42,
   "metadata": {
    "scrolled": true
   },
   "outputs": [
    {
     "name": "stdout",
     "output_type": "stream",
     "text": [
      "<class 'pandas.core.frame.DataFrame'>\n",
      "RangeIndex: 13152 entries, 0 to 13151\n",
      "Data columns (total 10 columns):\n",
      "ID             13152 non-null int64\n",
      "Count          13152 non-null int64\n",
      "ID1            13152 non-null object\n",
      "Year           13152 non-null object\n",
      "Month          13152 non-null object\n",
      "Day            13152 non-null object\n",
      "Time           13152 non-null object\n",
      "date           13152 non-null datetime64[ns]\n",
      "day-of-week    13152 non-null object\n",
      "weekno         13152 non-null int64\n",
      "dtypes: datetime64[ns](1), int64(3), object(6)\n",
      "memory usage: 1.0+ MB\n"
     ]
    }
   ],
   "source": [
    "# data type and dimension of features\n",
    "train.info()"
   ]
  },
  {
   "cell_type": "code",
   "execution_count": null,
   "metadata": {
    "scrolled": true
   },
   "outputs": [],
   "source": [
    "#  for checking null values\n",
    "train.isnull().sum()"
   ]
  },
  {
   "cell_type": "code",
   "execution_count": null,
   "metadata": {
    "scrolled": true
   },
   "outputs": [],
   "source": [
    "train.boxplot(column='Count')"
   ]
  },
  {
   "cell_type": "code",
   "execution_count": null,
   "metadata": {
    "scrolled": true
   },
   "outputs": [],
   "source": [
    "train['Count'].hist(bins=10)"
   ]
  },
  {
   "cell_type": "code",
   "execution_count": null,
   "metadata": {
    "collapsed": true,
    "scrolled": true
   },
   "outputs": [],
   "source": [
    "Q1 = train['Count'].quantile(0.25)\n",
    "Q3 = train['Count'].quantile(0.75)\n",
    "IQR = Q3 - Q1"
   ]
  },
  {
   "cell_type": "code",
   "execution_count": null,
   "metadata": {
    "collapsed": true,
    "scrolled": true
   },
   "outputs": [],
   "source": [
    "mean_value = train.Count.mean()\n",
    "\n",
    "\n",
    "lower_limit = Q1 - 1.5 * IQR\n",
    "upper_limit = Q3 + 1.5 * IQR\n",
    "\n",
    "def imputer(value):\n",
    "    if value < lower_limit or value > upper_limit:\n",
    "        return mean_value\n",
    "    else:\n",
    "        return value\n",
    "\n",
    "result = train.Count.apply(imputer)"
   ]
  },
  {
   "cell_type": "code",
   "execution_count": null,
   "metadata": {
    "scrolled": true
   },
   "outputs": [],
   "source": [
    "result.plot(kind='box')"
   ]
  },
  {
   "cell_type": "markdown",
   "metadata": {},
   "source": [
    "#The above result is almost free from outliers, but it might have lost the important information. let not use this result right now."
   ]
  },
  {
   "cell_type": "code",
   "execution_count": null,
   "metadata": {
    "scrolled": true
   },
   "outputs": [],
   "source": [
    "train['Count'].describe()"
   ]
  },
  {
   "cell_type": "code",
   "execution_count": null,
   "metadata": {
    "scrolled": true
   },
   "outputs": [],
   "source": [
    "train.ID.dtype"
   ]
  },
  {
   "cell_type": "code",
   "execution_count": null,
   "metadata": {
    "collapsed": true,
    "scrolled": true
   },
   "outputs": [],
   "source": [
    "# Splitting ID in to number of features\n",
    "train['ID1'] = train['ID'].astype(str)\n",
    "train['Year'] = train['ID1'].str[0:4]\n",
    "train['Month'] = train['ID1'].str[4:6]\n",
    "train['Day'] = train['ID1'].str[6:8] \n",
    "train['Time'] = train['ID1'].str[8:10] "
   ]
  },
  {
   "cell_type": "code",
   "execution_count": null,
   "metadata": {
    "collapsed": true,
    "scrolled": true
   },
   "outputs": [],
   "source": [
    "# splitting ID int to no of feature\n",
    "test['ID1'] = test['ID'].astype(str)\n",
    "test['Year'] = test['ID1'].str[0:4]\n",
    "test['Month'] = test['ID1'].str[4:6]\n",
    "test['Day'] = test['ID1'].str[6:8] \n",
    "test['Time'] = test['ID1'].str[8:10] "
   ]
  },
  {
   "cell_type": "code",
   "execution_count": null,
   "metadata": {
    "scrolled": true
   },
   "outputs": [],
   "source": [
    "train.head()\n",
    "test.head()"
   ]
  },
  {
   "cell_type": "code",
   "execution_count": null,
   "metadata": {
    "scrolled": true
   },
   "outputs": [],
   "source": [
    "train.info()"
   ]
  },
  {
   "cell_type": "code",
   "execution_count": null,
   "metadata": {
    "collapsed": true,
    "scrolled": true
   },
   "outputs": [],
   "source": [
    "# New feature DATE\n",
    "train['date'] = train['Year']+'-'+ train['Month'] + '-' + train['Day']\n",
    "test['date'] = test['Year']+'-'+ test['Month'] + '-' + test['Day']"
   ]
  },
  {
   "cell_type": "code",
   "execution_count": null,
   "metadata": {
    "collapsed": true,
    "scrolled": true
   },
   "outputs": [],
   "source": [
    "# converting date in to datetime type\n",
    "train['date'] = pd.to_datetime(train['date'])\n",
    "test['date'] = pd.to_datetime(test['date'])"
   ]
  },
  {
   "cell_type": "code",
   "execution_count": null,
   "metadata": {
    "collapsed": true,
    "scrolled": true
   },
   "outputs": [],
   "source": [
    "# To determine day of week and week number\n",
    "train['day-of-week'] = train['date'].dt.weekday_name\n",
    "test['day-of-week'] = test['date'].dt.weekday_name\n",
    "train['weekno'] = train['date'].dt.week\n",
    "test['weekno'] = test['date'].dt.week"
   ]
  },
  {
   "cell_type": "code",
   "execution_count": null,
   "metadata": {
    "scrolled": false
   },
   "outputs": [],
   "source": [
    "train.head(100)"
   ]
  },
  {
   "cell_type": "code",
   "execution_count": null,
   "metadata": {
    "scrolled": true
   },
   "outputs": [],
   "source": [
    "train.boxplot(column = 'Count',by = 'day-of-week')"
   ]
  },
  {
   "cell_type": "code",
   "execution_count": null,
   "metadata": {
    "scrolled": true
   },
   "outputs": [],
   "source": [
    "train.shape"
   ]
  },
  {
   "cell_type": "code",
   "execution_count": null,
   "metadata": {
    "scrolled": true
   },
   "outputs": [],
   "source": [
    "temp = train.pivot_table(values = 'Count',index = 'day-of-week',columns='Month',aggfunc='sum')\n",
    "temp"
   ]
  },
  {
   "cell_type": "markdown",
   "metadata": {},
   "source": [
    "It can be seen From the above two outputs on saturday and sunday, The Number of count is much lower as compared to other week days."
   ]
  },
  {
   "cell_type": "code",
   "execution_count": null,
   "metadata": {
    "collapsed": true,
    "scrolled": true
   },
   "outputs": [],
   "source": [
    "train['day-of-week'] = train['day-of-week'].str.replace('Saturday','6')\n",
    "train['day-of-week'] = train['day-of-week'].str.replace('Sunday','6')\n",
    "train['day-of-week'] = train['day-of-week'].str.replace('Monday','1')\n",
    "train['day-of-week'] = train['day-of-week'].str.replace('Tuesday','2')\n",
    "train['day-of-week'] = train['day-of-week'].str.replace('Wednesday','3')\n",
    "train['day-of-week'] = train['day-of-week'].str.replace('Thursday','4')\n",
    "train['day-of-week'] = train['day-of-week'].str.replace('Friday','5')\n",
    "\n",
    "test['day-of-week'] = test['day-of-week'].str.replace('Saturday','6')\n",
    "test['day-of-week'] = test['day-of-week'].str.replace('Sunday','6')\n",
    "test['day-of-week'] = test['day-of-week'].str.replace('Monday','1')\n",
    "test['day-of-week'] = test['day-of-week'].str.replace('Tuesday','2')\n",
    "test['day-of-week'] = test['day-of-week'].str.replace('Wednesday','3')\n",
    "test['day-of-week'] = test['day-of-week'].str.replace('Thursday','4')\n",
    "test['day-of-week'] = test['day-of-week'].str.replace('Friday','5')"
   ]
  },
  {
   "cell_type": "code",
   "execution_count": null,
   "metadata": {
    "scrolled": false
   },
   "outputs": [],
   "source": [
    "train.boxplot(column = 'Count',by = 'Year')"
   ]
  },
  {
   "cell_type": "code",
   "execution_count": 43,
   "metadata": {},
   "outputs": [
    {
     "ename": "SyntaxError",
     "evalue": "can't assign to function call (<ipython-input-43-a4f7149735f9>, line 1)",
     "output_type": "error",
     "traceback": [
      "\u001b[1;36m  File \u001b[1;32m\"<ipython-input-43-a4f7149735f9>\"\u001b[1;36m, line \u001b[1;32m1\u001b[0m\n\u001b[1;33m    train['day-of-week'].unique() = No\u001b[0m\n\u001b[1;37m                                      ^\u001b[0m\n\u001b[1;31mSyntaxError\u001b[0m\u001b[1;31m:\u001b[0m can't assign to function call\n"
     ]
    }
   ],
   "source": [
    "train['day-of-week'].unique() = No"
   ]
  },
  {
   "cell_type": "code",
   "execution_count": 37,
   "metadata": {
    "collapsed": true
   },
   "outputs": [],
   "source": [
    "No = ['6','7','1','2','3','4','5']"
   ]
  },
  {
   "cell_type": "raw",
   "metadata": {},
   "source": []
  },
  {
   "cell_type": "code",
   "execution_count": null,
   "metadata": {
    "collapsed": true,
    "scrolled": true
   },
   "outputs": [],
   "source": [
    "train['Year'] = train['Year'].astype('int')\n",
    "test['Year'] = test['Year'].astype('int')"
   ]
  },
  {
   "cell_type": "code",
   "execution_count": null,
   "metadata": {
    "collapsed": true,
    "scrolled": true
   },
   "outputs": [],
   "source": [
    "train['old'] = 2014 - train['Year']\n",
    "test['old'] = 2014 - test['Year']"
   ]
  },
  {
   "cell_type": "raw",
   "metadata": {},
   "source": [
    "# Cross validation Technique"
   ]
  },
  {
   "cell_type": "code",
   "execution_count": null,
   "metadata": {
    "scrolled": true
   },
   "outputs": [],
   "source": [
    "ctrain=train[:11400]\n",
    "ctest =train[11400:]\n",
    "X = ctrain[['old','Month','Time','day-of-week','weekno']]\n",
    "Y = ctrain[['Count']]\n",
    "Xtest = ctest[['old','Month','Time','day-of-week','weekno']]\n",
    "# importing random forest\n",
    "from sklearn.ensemble import RandomForestRegressor\n",
    "Regressor=RandomForestRegressor(n_estimators= 300 ,max_features=4, min_samples_leaf=5,max_depth = 12, oob_score=True)\n",
    "Regressor.fit(X,Y)\n",
    "predicted= Regressor.predict(Xtest)\n",
    "predicted=np.around(predicted)\n",
    "from sklearn.metrics import mean_squared_error\n",
    "from math import sqrt\n",
    "rms = sqrt(mean_squared_error(ctest['Count'], predicted))\n"
   ]
  },
  {
   "cell_type": "code",
   "execution_count": null,
   "metadata": {
    "scrolled": true
   },
   "outputs": [],
   "source": [
    "print(Regressor.feature_importances_)"
   ]
  },
  {
   "cell_type": "code",
   "execution_count": null,
   "metadata": {
    "scrolled": true
   },
   "outputs": [],
   "source": [
    "rms"
   ]
  },
  {
   "cell_type": "code",
   "execution_count": null,
   "metadata": {
    "scrolled": true
   },
   "outputs": [],
   "source": [
    "# Final Modelling\n",
    "X = train[['old','Month','Time','day-of-week','weekno']]\n",
    "Y = train[['Count']]\n",
    "Xtest = test[['old','Month','Time','day-of-week','weekno']]\n",
    "from sklearn.ensemble import RandomForestRegressor\n",
    "Regressor=RandomForestRegressor(n_estimators= 300 ,max_features=4, min_samples_leaf=5,max_depth = 12,oob_score=True)\n",
    "# fitting training dataset\n",
    "Regressor.fit(X,Y)\n",
    "# prediction\n",
    "predicted2= Regressor.predict(Xtest)\n",
    "predicted2"
   ]
  },
  {
   "cell_type": "code",
   "execution_count": null,
   "metadata": {
    "scrolled": true
   },
   "outputs": [],
   "source": [
    "print(Regressor.feature_importances_)"
   ]
  },
  {
   "cell_type": "code",
   "execution_count": null,
   "metadata": {
    "collapsed": true,
    "scrolled": true
   },
   "outputs": [],
   "source": [
    "predicted2=np.around(predicted2)"
   ]
  },
  {
   "cell_type": "code",
   "execution_count": null,
   "metadata": {
    "collapsed": true,
    "scrolled": true
   },
   "outputs": [],
   "source": [
    "# Make submission file and submit\n",
    "submission = pd.DataFrame({'Count':predicted2,'ID':test['ID']},columns=['ID','Count'])\n",
    "submission.to_csv('av15.csv', index = False)"
   ]
  },
  {
   "cell_type": "code",
   "execution_count": null,
   "metadata": {
    "collapsed": true,
    "scrolled": true
   },
   "outputs": [],
   "source": []
  }
 ],
 "metadata": {
  "kernelspec": {
   "display_name": "Python 3",
   "language": "python",
   "name": "python3"
  },
  "language_info": {
   "codemirror_mode": {
    "name": "ipython",
    "version": 3
   },
   "file_extension": ".py",
   "mimetype": "text/x-python",
   "name": "python",
   "nbconvert_exporter": "python",
   "pygments_lexer": "ipython3",
   "version": "3.6.2"
  }
 },
 "nbformat": 4,
 "nbformat_minor": 2
}
